{
 "cells": [
  {
   "cell_type": "markdown",
   "id": "27017aae-b047-4466-953c-ba69f64d86fa",
   "metadata": {},
   "source": [
    "# Credit Card Fraud Detection"
   ]
  },
  {
   "cell_type": "code",
   "execution_count": 1,
   "id": "82522289-fb8c-49d8-a47a-9b39e809d8ac",
   "metadata": {},
   "outputs": [
    {
     "name": "stdout",
     "output_type": "stream",
     "text": [
      "WARNING:tensorflow:From /Users/gurkamal/python/python_gurkamal/lib/python3.11/site-packages/tensorflow/python/compat/v2_compat.py:108: disable_resource_variables (from tensorflow.python.ops.variable_scope) is deprecated and will be removed in a future version.\n",
      "Instructions for updating:\n",
      "non-resource variables are not supported in the long term\n"
     ]
    }
   ],
   "source": [
    "import pandas as pd\n",
    "import numpy as np\n",
    "import time\n",
    "import tensorflow.compat.v1 as tf\n",
    "\n",
    "tf.disable_v2_behavior()\n",
    "tf.compat.v1.disable_eager_execution()"
   ]
  },
  {
   "cell_type": "code",
   "execution_count": 2,
   "id": "dd1fb488-9177-4a3a-8d35-61c23e803e01",
   "metadata": {},
   "outputs": [],
   "source": [
    "credit_card_data = pd.read_csv('CreditCard_CSVs/creditcard.csv')"
   ]
  },
  {
   "cell_type": "markdown",
   "id": "b29d9d17-82ca-459e-b626-96b5589e1010",
   "metadata": {},
   "source": [
    "## Pre-Processing"
   ]
  },
  {
   "cell_type": "code",
   "execution_count": 3,
   "id": "a1437d23-fbb9-4672-8f98-0f69ae0106ea",
   "metadata": {},
   "outputs": [],
   "source": [
    "    # Shuffle and randomize data\n",
    "shuffled_data = credit_card_data.sample(frac=1)\n",
    "    # Change Class column into Class_0 ([1 0] for legit data) and Class_1 ([0 1] for fraudulent data)\n",
    "one_hot_data = pd.get_dummies(shuffled_data, columns=['Class'])\n",
    "one_hot_data['Class_0'] = one_hot_data['Class_0'].replace({True: 1, False: 0})\n",
    "one_hot_data['Class_1'] = one_hot_data['Class_1'].replace({True: 1, False: 0})\n",
    "    # Change all values into numbers between 0 and 1\n",
    "normalized_data = (one_hot_data - one_hot_data.min()) / (one_hot_data.max() - one_hot_data.min())\n",
    "    # Store just columns V1 through V28 in df_X and columns Class_0 and Class_1 in df_y\n",
    "df_X = normalized_data.drop(['Class_0', 'Class_1'], axis=1)\n",
    "df_y = normalized_data[['Class_0', 'Class_1']]\n",
    "    # Convert both data_frames into np arrays of float32\n",
    "ar_X, ar_y = np.asarray(df_X.values, dtype='float32'), np.asarray(df_y.values, dtype='float32')"
   ]
  },
  {
   "cell_type": "markdown",
   "id": "46a416e5-0246-49ba-bdd4-2fc0702642ad",
   "metadata": {},
   "source": [
    "Train-Test-Split"
   ]
  },
  {
   "cell_type": "code",
   "execution_count": 4,
   "id": "e7c179cc-0b0d-4c49-9305-e8f8aae5fdc0",
   "metadata": {},
   "outputs": [],
   "source": [
    "    # Allocate first 80% of data into training data and remaining 20% into testing data\n",
    "train_size = int(0.8 * len(ar_X))\n",
    "(raw_X_train, raw_y_train) = (ar_X[:train_size], ar_y[:train_size]) # first 80% TRAIN\n",
    "(raw_X_test, raw_y_test) = (ar_X[train_size:], ar_y[train_size:]) # last 20% TEST"
   ]
  },
  {
   "cell_type": "markdown",
   "id": "19a90de4-e4da-4115-8f1f-03f7a0a38bc1",
   "metadata": {},
   "source": [
    "Adjusting Weight"
   ]
  },
  {
   "cell_type": "code",
   "execution_count": 5,
   "id": "8c37d9cc-977d-4d78-96aa-af14cdf13a00",
   "metadata": {},
   "outputs": [
    {
     "name": "stdout",
     "output_type": "stream",
     "text": [
      "Percent of fraudulent transactions:  0.001727485630620034\n"
     ]
    }
   ],
   "source": [
    "    # Gets a percent of fraud vs legit transactions (0.0017% of transactions are fraudulent)\n",
    "count_legit, count_fraud = np.unique(credit_card_data['Class'], return_counts=True)[1]\n",
    "fraud_ratio = float(count_fraud / (count_legit + count_fraud))\n",
    "print('Percent of fraudulent transactions: ', fraud_ratio)"
   ]
  },
  {
   "cell_type": "code",
   "execution_count": 6,
   "id": "fc3cae9d-cae7-4779-b327-994a11b5f9e4",
   "metadata": {},
   "outputs": [],
   "source": [
    "#Applies a logit weighting of 578 (1/0.0017) to fraudulent transactions to cause model to pay more attention to them\n",
    "weighting = 1 / fraud_ratio\n",
    "raw_y_train[:, 1] = raw_y_train[:, 1] * weighting # select positive samples and apply this operation"
   ]
  },
  {
   "cell_type": "markdown",
   "id": "62a66f5e-bb27-4872-9beb-6fd2eafae2da",
   "metadata": {},
   "source": [
    "## Variables"
   ]
  },
  {
   "cell_type": "markdown",
   "id": "49dcc1bc-c4b8-4dfe-a56d-a84e93cbe5b9",
   "metadata": {},
   "source": [
    "Defining Dimentions of layers"
   ]
  },
  {
   "cell_type": "code",
   "execution_count": 7,
   "id": "9357c181-71c9-42ee-81b5-f5828a65e5e7",
   "metadata": {},
   "outputs": [],
   "source": [
    "# 30 cells for the input\n",
    "input_dimensions = ar_X.shape[1]\n",
    "# 2 cells for the output\n",
    "output_dimensions = ar_y.shape[1]\n",
    "# 100 cells for the 1st layer\n",
    "num_layer_1_cells = 100\n",
    "# 150 cells for the second layer\n",
    "num_layer_2_cells = 150\n",
    "num_epochs = 100"
   ]
  },
  {
   "cell_type": "markdown",
   "id": "f76c7982-e134-48d3-8776-861bf3d84a42",
   "metadata": {},
   "source": [
    "Defining Variables to be used later"
   ]
  },
  {
   "cell_type": "code",
   "execution_count": 8,
   "id": "4246a269-5852-4b7e-a45f-bba19a340f64",
   "metadata": {},
   "outputs": [],
   "source": [
    "    # We will use these as inputs to the model when it comes time to train it (assign values at run time)\n",
    "X_train_node = tf.placeholder(tf.float32, [None, input_dimensions], name='X_train')\n",
    "y_train_node = tf.placeholder(tf.float32, [None, output_dimensions], name='y_train')\n",
    "\n",
    "X_test_node = tf.constant(raw_X_test, name='X_test')\n",
    "y_test_node = tf.constant(raw_y_test, name='y_test')\n",
    "\n",
    "# First layer takes in input and passes output to 2nd layer\n",
    "weight_1_node = tf.Variable(tf.zeros([input_dimensions, num_layer_1_cells]), name='weight_1')\n",
    "biases_1_node = tf.Variable(tf.zeros([num_layer_1_cells]), name='biases_1')\n",
    "\n",
    "# Second layer takes in input from 1st layer and passes output to 3rd layer\n",
    "weight_2_node = tf.Variable(tf.zeros([num_layer_1_cells, num_layer_2_cells]), name='weight_2')\n",
    "biases_2_node = tf.Variable(tf.zeros([num_layer_2_cells]), name='biases_2')\n",
    "\n",
    "# Third layer takes in input from 2nd layer and outputs [1 0] or [0 1] depending on fraud vs legit\n",
    "weight_3_node = tf.Variable(tf.zeros([num_layer_2_cells, output_dimensions]), name='weight_3')\n",
    "biases_3_node = tf.Variable(tf.zeros([output_dimensions]), name='biases_3')"
   ]
  },
  {
   "cell_type": "markdown",
   "id": "722f41e7-bd46-4aaa-97a3-9476e3b636ee",
   "metadata": {},
   "source": [
    "## Functions"
   ]
  },
  {
   "cell_type": "markdown",
   "id": "361a174b-8771-44a8-959d-5687068c5d34",
   "metadata": {},
   "source": [
    "Network Function of Model"
   ]
  },
  {
   "cell_type": "code",
   "execution_count": 9,
   "id": "770a7f6f-2b59-4c3f-af7b-89b6869bc513",
   "metadata": {},
   "outputs": [],
   "source": [
    "# Function to run an input tensor through the 3 layers and output a tensor that will give us a fraud/legit result\n",
    "# Each layer uses a different function to fit lines through the data and predict whether a given input tensor will\n",
    "# result in a fraudulent or legitimate transaction\n",
    "def network(input_tensor):\n",
    "    # Sigmoid fits modified data well\n",
    "    layer1 = tf.nn.sigmoid(tf.matmul(input_tensor, weight_1_node) + biases_1_node)\n",
    "    # Dropout prevents model from becoming lazy and over confident\n",
    "    layer2 = tf.nn.dropout(tf.nn.sigmoid(tf.matmul(layer1, weight_2_node) + biases_2_node), 0.85)\n",
    "    # Softmax works very well with one hot encoding which is how results are outputted\n",
    "    layer3 = tf.nn.softmax(tf.matmul(layer2, weight_3_node) + biases_3_node)\n",
    "    return layer3"
   ]
  },
  {
   "cell_type": "code",
   "execution_count": 10,
   "id": "fbdcea9f-4dca-4ec8-bb8e-7ea4ab3f7ef7",
   "metadata": {},
   "outputs": [
    {
     "name": "stdout",
     "output_type": "stream",
     "text": [
      "WARNING:tensorflow:From /Users/gurkamal/python/python_gurkamal/lib/python3.11/site-packages/tensorflow/python/util/dispatch.py:1260: calling dropout (from tensorflow.python.ops.nn_ops) with keep_prob is deprecated and will be removed in a future version.\n",
      "Instructions for updating:\n",
      "Please use `rate` instead of `keep_prob`. Rate should be set to `rate = 1 - keep_prob`.\n"
     ]
    }
   ],
   "source": [
    "# Used to predict what results will be given training or testing input data\n",
    "# Remember, X_train_node is just a placeholder for now. We will enter values at run time\n",
    "y_train_prediction = network(X_train_node)\n",
    "y_test_prediction = network(X_test_node)"
   ]
  },
  {
   "cell_type": "markdown",
   "id": "ff96ed68-22d5-42fe-8bf7-e8deeae84e2d",
   "metadata": {},
   "source": [
    "Loss function"
   ]
  },
  {
   "cell_type": "code",
   "execution_count": 11,
   "id": "52a1c8da-32e6-44bc-bdb3-f4837737cf66",
   "metadata": {},
   "outputs": [],
   "source": [
    "    # Cross entropy loss function measures differences between actual output and predicted output\n",
    "cross_entropy = tf.losses.softmax_cross_entropy(y_train_node, y_train_prediction)"
   ]
  },
  {
   "cell_type": "markdown",
   "id": "d901d3f2-7e45-4898-b889-535bed37379f",
   "metadata": {},
   "source": [
    "Adam Optimizer try to minimize loss function by changing layer 3 values at learning rate of 0.005"
   ]
  },
  {
   "cell_type": "code",
   "execution_count": 12,
   "id": "3d63b05e-e97e-4259-aef4-a63dc93e6f26",
   "metadata": {},
   "outputs": [],
   "source": [
    "optimizer = tf.train.AdamOptimizer(0.005).minimize(cross_entropy)"
   ]
  },
  {
   "cell_type": "markdown",
   "id": "eef1c09b-1496-4388-9919-abb0e4d88df0",
   "metadata": {},
   "source": [
    "Function to calculate accuracy"
   ]
  },
  {
   "cell_type": "code",
   "execution_count": 13,
   "id": "16d5efff-9c87-4ad9-a6d9-52d3b9ef94d0",
   "metadata": {},
   "outputs": [],
   "source": [
    "def calculate_accuracy(actual, predicted):\n",
    "    actual = np.argmax(actual, 1)\n",
    "    predicted = np.argmax(predicted, 1)\n",
    "    return (100 * np.sum(np.equal(predicted, actual)) / predicted.shape[0])"
   ]
  },
  {
   "cell_type": "markdown",
   "id": "122ff5e1-15c9-4880-88bf-063a0ee07d27",
   "metadata": {},
   "source": [
    "## Tensorflow Session"
   ]
  },
  {
   "cell_type": "code",
   "execution_count": 14,
   "id": "51b11ff8-382e-4c78-b00a-76f910f6149d",
   "metadata": {},
   "outputs": [
    {
     "name": "stderr",
     "output_type": "stream",
     "text": [
      "2023-12-09 19:02:43.462706: I tensorflow/compiler/mlir/mlir_graph_optimization_pass.cc:388] MLIR V1 optimization pass is not enabled\n"
     ]
    },
    {
     "name": "stdout",
     "output_type": "stream",
     "text": [
      "Epoch: 0 Current loss: 1.3717 Elapsed time: 0.32 seconds\n",
      "Current accuracy: 99.81%\n",
      "Epoch: 10 Current loss: 1.3706 Elapsed time: 0.22 seconds\n",
      "Current accuracy: 58.50%\n",
      "Epoch: 20 Current loss: 1.3345 Elapsed time: 0.21 seconds\n",
      "Current accuracy: 95.54%\n",
      "Epoch: 30 Current loss: 1.1851 Elapsed time: 0.20 seconds\n",
      "Current accuracy: 94.65%\n",
      "Epoch: 40 Current loss: 1.0032 Elapsed time: 0.21 seconds\n",
      "Current accuracy: 98.06%\n",
      "Epoch: 50 Current loss: 0.9020 Elapsed time: 0.21 seconds\n",
      "Current accuracy: 99.01%\n",
      "Epoch: 60 Current loss: 0.8495 Elapsed time: 0.22 seconds\n",
      "Current accuracy: 99.69%\n",
      "Epoch: 70 Current loss: 0.8267 Elapsed time: 0.24 seconds\n",
      "Current accuracy: 99.74%\n",
      "Epoch: 80 Current loss: 0.8145 Elapsed time: 0.20 seconds\n",
      "Current accuracy: 99.83%\n",
      "Epoch: 90 Current loss: 0.8007 Elapsed time: 0.20 seconds\n",
      "Current accuracy: 99.74%\n",
      "Final accuracy: 99.42%\n"
     ]
    }
   ],
   "source": [
    "with tf.Session() as session:\n",
    "    tf.global_variables_initializer().run()\n",
    "    for epoch in range(num_epochs):\n",
    "\n",
    "        start_time = time.time()\n",
    "\n",
    "        _, cross_entropy_score = session.run([optimizer, cross_entropy],\n",
    "                                             feed_dict={X_train_node: raw_X_train, y_train_node: raw_y_train})\n",
    "\n",
    "        if epoch % 10 == 0:\n",
    "            timer = time.time() - start_time\n",
    "\n",
    "            print('Epoch: {}'.format(epoch), 'Current loss: {0:.4f}'.format(cross_entropy_score),\n",
    "                  'Elapsed time: {0:.2f} seconds'.format(timer))\n",
    "\n",
    "            final_y_test = y_test_node.eval()\n",
    "            final_y_test_prediction = y_test_prediction.eval()\n",
    "            final_accuracy = calculate_accuracy(final_y_test, final_y_test_prediction)\n",
    "            print(\"Current accuracy: {0:.2f}%\".format(final_accuracy))\n",
    "\n",
    "    final_y_test = y_test_node.eval()\n",
    "    final_y_test_prediction = y_test_prediction.eval()\n",
    "    final_accuracy = calculate_accuracy(final_y_test, final_y_test_prediction)\n",
    "    print(\"Final accuracy: {0:.2f}%\".format(final_accuracy))"
   ]
  },
  {
   "cell_type": "markdown",
   "id": "01089117-c157-448e-8257-6e4de4de87e5",
   "metadata": {},
   "source": [
    "## Final Accuracy"
   ]
  },
  {
   "cell_type": "code",
   "execution_count": 15,
   "id": "3f47390a-65aa-437a-9f3a-71738fe14e3a",
   "metadata": {},
   "outputs": [
    {
     "name": "stdout",
     "output_type": "stream",
     "text": [
      "Final fraud specific accuracy: 81.13%\n"
     ]
    }
   ],
   "source": [
    "final_fraud_y_test = final_y_test[final_y_test[:, 1] == 1]\n",
    "final_fraud_y_test_prediction = final_y_test_prediction[final_y_test[:, 1] == 1]\n",
    "final_fraud_accuracy = calculate_accuracy(final_fraud_y_test, final_fraud_y_test_prediction)\n",
    "print('Final fraud specific accuracy: {0:.2f}%'.format(final_fraud_accuracy))"
   ]
  },
  {
   "cell_type": "code",
   "execution_count": null,
   "id": "24298d0d-56b4-43fa-b9cd-d3d7b55b7e19",
   "metadata": {},
   "outputs": [],
   "source": []
  }
 ],
 "metadata": {
  "kernelspec": {
   "display_name": "python_gurkamal",
   "language": "python",
   "name": "python_gurkamal"
  },
  "language_info": {
   "codemirror_mode": {
    "name": "ipython",
    "version": 3
   },
   "file_extension": ".py",
   "mimetype": "text/x-python",
   "name": "python",
   "nbconvert_exporter": "python",
   "pygments_lexer": "ipython3",
   "version": "3.11.1"
  }
 },
 "nbformat": 4,
 "nbformat_minor": 5
}
